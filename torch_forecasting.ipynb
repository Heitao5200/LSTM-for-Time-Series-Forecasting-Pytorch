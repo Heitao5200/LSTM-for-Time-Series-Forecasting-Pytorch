{
  "nbformat": 4,
  "nbformat_minor": 0,
  "metadata": {
    "colab": {
      "name": "torch_forecasting.ipynb",
      "provenance": [],
      "collapsed_sections": [
        "gNeLqMdghsjZ"
      ],
      "authorship_tag": "ABX9TyONmFmtBUAmL+bPOygdQOhB",
      "include_colab_link": true
    },
    "kernelspec": {
      "name": "python3",
      "display_name": "Python 3"
    }
  },
  "cells": [
    {
      "cell_type": "markdown",
      "metadata": {
        "id": "view-in-github",
        "colab_type": "text"
      },
      "source": [
        "<a href=\"https://colab.research.google.com/github/stxupengyu/LSTM-for-Time-Series-Forecasting-Pytorch/blob/main/torch_forecasting.ipynb\" target=\"_parent\"><img src=\"https://colab.research.google.com/assets/colab-badge.svg\" alt=\"Open In Colab\"/></a>"
      ]
    },
    {
      "cell_type": "markdown",
      "metadata": {
        "id": "gNeLqMdghsjZ"
      },
      "source": [
        "#google drive"
      ]
    },
    {
      "cell_type": "code",
      "metadata": {
        "colab": {
          "base_uri": "https://localhost:8080/"
        },
        "id": "JsHo6Jbdv8kJ",
        "outputId": "15e6eb95-1524-422e-a45f-18b872bd356c"
      },
      "source": [
        "from google.colab import drive\r\n",
        "drive.mount('/content/drive')"
      ],
      "execution_count": null,
      "outputs": [
        {
          "output_type": "stream",
          "text": [
            "Drive already mounted at /content/drive; to attempt to forcibly remount, call drive.mount(\"/content/drive\", force_remount=True).\n"
          ],
          "name": "stdout"
        }
      ]
    },
    {
      "cell_type": "code",
      "metadata": {
        "colab": {
          "base_uri": "https://localhost:8080/"
        },
        "id": "_F-Guahov-wA",
        "outputId": "e5656d0b-66ce-42c3-cc7b-29c55371314a"
      },
      "source": [
        "import os\r\n",
        "os.chdir('/content/drive/My Drive/Project/torch_gru')\r\n",
        "!ls"
      ],
      "execution_count": null,
      "outputs": [
        {
          "output_type": "stream",
          "text": [
            "data.xls  gru_torch_3.ipynb  lstm_cnn_avg.ipynb\n",
            "gru.h5\t  gru_torch.ipynb    lstm_torch.ipynb\n"
          ],
          "name": "stdout"
        }
      ]
    },
    {
      "cell_type": "markdown",
      "metadata": {
        "id": "ZHd3VeCAhwZA"
      },
      "source": [
        "#Read data"
      ]
    },
    {
      "cell_type": "code",
      "metadata": {
        "colab": {
          "base_uri": "https://localhost:8080/"
        },
        "id": "TiX08q3ewA42",
        "outputId": "0065ff60-56e0-4670-ab50-f183363fceba"
      },
      "source": [
        "import numpy as np\r\n",
        "import pandas as pd\r\n",
        "import matplotlib.pyplot as plt\r\n",
        "from sklearn.preprocessing import MinMaxScaler\r\n",
        "from sklearn.metrics import mean_squared_error\r\n",
        "from sklearn.metrics import mean_absolute_error\r\n",
        "import torch\r\n",
        "from torch import nn, optim\r\n",
        "from torch.autograd import Variable\r\n",
        "from torch.utils.data import DataLoader\r\n",
        "import torch.utils.data as Data\r\n",
        "from torchvision import transforms, datasets\r\n",
        "plt.style.use('ggplot')\r\n",
        "\r\n",
        "seq_length = 3#time step\r\n",
        "input_size = 3#input dim\r\n",
        "hidden_size = 6\r\n",
        "num_layers = 1\r\n",
        "num_classes = 1\r\n",
        "learning_rate = 0.0001\r\n",
        "batch_size = 64\r\n",
        "n_iters = 5000\r\n",
        "split_ratio = 0.9\r\n",
        "data_path = 'data.xls'\r\n",
        "\r\n",
        "def read_data(data_path):\r\n",
        "  '''\r\n",
        "  read original data, show and plot\r\n",
        "  '''\r\n",
        "  data = pd.read_excel(data_path)\r\n",
        "  data=data.iloc[:,:3]\r\n",
        "  label=data.iloc[:,2:]\r\n",
        "  print(data.head())\r\n",
        "  # plt.plot(data.iloc[:,0])\r\n",
        "  # plt.show()\r\n",
        "  return data,label\r\n",
        "\r\n",
        "def normalization(data,label):\r\n",
        "  '''\r\n",
        "  normalization\r\n",
        "  '''\r\n",
        "  mm_x = MinMaxScaler()\r\n",
        "  mm_y = MinMaxScaler()  \r\n",
        "  data = data.values\r\n",
        "  data = mm_x.fit_transform(data)\r\n",
        "  label = mm_y.fit_transform(label)\r\n",
        "  return data, label, mm_y\r\n",
        "\r\n",
        "def sliding_windows(data, seq_length):\r\n",
        "  '''\r\n",
        "  Output:The data form we can feed GRU\r\n",
        "  '''\r\n",
        "  x = []\r\n",
        "  y = []\r\n",
        "  for i in range(len(data)-seq_length-1):\r\n",
        "      _x = data[i:(i+seq_length),:]\r\n",
        "      _y = data[i+seq_length,-1]\r\n",
        "      x.append(_x)\r\n",
        "      y.append(_y)\r\n",
        "  x, y = np.array(x),np.array(y)\r\n",
        "  print('x.shape,y.shape:\\n',x.shape,y.shape)\r\n",
        "  return x, y\r\n",
        "\r\n",
        "def data_split(x, y, split_ratio):\r\n",
        "  '''\r\n",
        "  convert to torch format and split train&test\r\n",
        "  '''\r\n",
        "  train_size = int(len(y) * split_ratio)\r\n",
        "  test_size = len(y) - train_size\r\n",
        "\r\n",
        "  x_data = Variable(torch.Tensor(np.array(x)))\r\n",
        "  y_data = Variable(torch.Tensor(np.array(y)))\r\n",
        "\r\n",
        "  x_train = Variable(torch.Tensor(np.array(x[0:train_size])))\r\n",
        "  y_train = Variable(torch.Tensor(np.array(y[0:train_size])))\r\n",
        "  x_test = Variable(torch.Tensor(np.array(x[train_size:len(x)])))\r\n",
        "  y_test = Variable(torch.Tensor(np.array(y[train_size:len(y)])))\r\n",
        "\r\n",
        "  print('x_train.shape,y_train.shape,x_test.shape,y_test.shape:\\n',x_train.shape,y_train.shape,x_test.shape,y_test.shape)  \r\n",
        "  return x_data, y_data, x_train, y_train, x_test, y_test\r\n",
        "\r\n",
        "def data_generator(x_train, y_train, x_test, y_test, n_iters, batch_size):\r\n",
        "  '''\r\n",
        "  generate DataLoader\r\n",
        "  '''\r\n",
        "  num_epochs = n_iters / (len(x_train) / batch_size)\r\n",
        "  num_epochs = int(num_epochs)\r\n",
        "  train_dataset = Data.TensorDataset(x_train, y_train)\r\n",
        "  test_dataset = Data.TensorDataset(x_test, y_test)\r\n",
        "  train_loader = torch.utils.data.DataLoader(dataset=train_dataset, \r\n",
        "                                            batch_size=batch_size, \r\n",
        "                                            shuffle=False)\r\n",
        "  test_loader = torch.utils.data.DataLoader(dataset=test_dataset, \r\n",
        "                                            batch_size=batch_size, \r\n",
        "                                            shuffle=False)\r\n",
        "  return train_loader, test_loader, num_epochs\r\n",
        "\r\n",
        "data,label = read_data(data_path) \r\n",
        "data, label, mm_y = normalization(data, label)\r\n",
        "x, y = sliding_windows(data, seq_length)\r\n",
        "x_data, y_data, x_train, y_train, x_test, y_test = data_split(x, y, split_ratio)\r\n",
        "train_loader, test_loader, num_epochs = data_generator(x_train, y_train, x_test, y_test, n_iters, batch_size)"
      ],
      "execution_count": null,
      "outputs": [
        {
          "output_type": "stream",
          "text": [
            "   导叶开度  燃料流量m3N/h  压气机出口温度\n",
            "0     1     0.0089      1.0\n",
            "1     2     0.0179      2.0\n",
            "2     3     0.0269      2.0\n",
            "3     6     0.0359      3.0\n",
            "4     8     0.0449      4.0\n",
            "x.shape,y.shape:\n",
            " (604, 3, 3) (604,)\n",
            "x_train.shape,y_train.shape,x_test.shape,y_test.shape:\n",
            " torch.Size([543, 3, 3]) torch.Size([543]) torch.Size([61, 3, 3]) torch.Size([61])\n"
          ],
          "name": "stdout"
        }
      ]
    },
    {
      "cell_type": "markdown",
      "metadata": {
        "id": "Jzzb-jIlcFWH"
      },
      "source": [
        "#Model"
      ]
    },
    {
      "cell_type": "code",
      "metadata": {
        "colab": {
          "base_uri": "https://localhost:8080/"
        },
        "id": "EtLIFOD1rymF",
        "outputId": "70fa47cd-1300-4a7a-e49e-3daee5f3a11c"
      },
      "source": [
        "import torch.nn as nn\r\n",
        "import torch.nn.functional as F\r\n",
        "\r\n",
        "class BP(nn.Module):\r\n",
        "    def __init__(self, num_classes, input_size, hidden_size, num_layers):\r\n",
        "        super(BP, self).__init__()\r\n",
        "        self.num_classes = num_classes\r\n",
        "        self.num_layers = num_layers\r\n",
        "        self.input_size = input_size\r\n",
        "        self.hidden_size = hidden_size\r\n",
        "        self.seq_length = seq_length\r\n",
        "        self.fc1 = nn.Linear(seq_length*input_size, 20)\r\n",
        "        self.fc2 = nn.Linear(20, 20)\r\n",
        "        self.fc3 = nn.Linear(20, num_classes)\r\n",
        "        self.dropout = nn.Dropout(0.2)\r\n",
        "\r\n",
        "    def forward(self, x):      \r\n",
        "        out = x.view(-1, self.seq_length*self.input_size)     \r\n",
        "        out = F.relu(self.fc1(out))\r\n",
        "        out = F.relu(self.fc2(out))#F.relu()\r\n",
        "        out = self.fc3(out)\r\n",
        "        return out\r\n",
        "\r\n",
        "class GRU(nn.Module):\r\n",
        "    def __init__(self, num_classes, input_size, hidden_size, num_layers):\r\n",
        "        super(GRU, self).__init__()\r\n",
        "        \r\n",
        "        self.num_classes = num_classes\r\n",
        "        self.num_layers = num_layers\r\n",
        "        self.input_size = input_size\r\n",
        "        self.hidden_size = hidden_size\r\n",
        "        self.seq_length = seq_length\r\n",
        "        \r\n",
        "        self.gru = nn.GRU(input_size=input_size, hidden_size=hidden_size,\r\n",
        "                            num_layers=num_layers, batch_first=True)\r\n",
        "        \r\n",
        "        self.fc1 = nn.Linear(hidden_size, 20)\r\n",
        "        self.fc2 = nn.Linear(20, num_classes)\r\n",
        "        self.dropout = nn.Dropout(0.2)\r\n",
        "\r\n",
        "    def forward(self, x):\r\n",
        "        h_0 = Variable(torch.zeros(\r\n",
        "            self.num_layers, x.size(0), self.hidden_size))    \r\n",
        "        # Propagate input through GRU\r\n",
        "        ula, h_out  = self.gru(x, h_0)\r\n",
        "        h_out = h_out.view(-1, self.hidden_size)\r\n",
        "        out = F.relu(self.fc1(h_out))\r\n",
        "        out = self.fc2(out)\r\n",
        "        return out\r\n",
        "\r\n",
        "class LSTM(nn.Module):\r\n",
        "    def __init__(self, num_classes, input_size, hidden_size, num_layers):\r\n",
        "        super(LSTM, self).__init__()\r\n",
        "        \r\n",
        "        self.num_classes = num_classes\r\n",
        "        self.num_layers = num_layers\r\n",
        "        self.input_size = input_size\r\n",
        "        self.hidden_size = hidden_size\r\n",
        "        self.seq_length = seq_length\r\n",
        "        \r\n",
        "        self.lstm = nn.LSTM(input_size=input_size, hidden_size=hidden_size,\r\n",
        "                            num_layers=num_layers, batch_first=True)\r\n",
        "        \r\n",
        "        self.fc = nn.Linear(hidden_size, num_classes)\r\n",
        "\r\n",
        "    def forward(self, x):\r\n",
        "        h_0 = Variable(torch.zeros(\r\n",
        "            self.num_layers, x.size(0), self.hidden_size))\r\n",
        "        \r\n",
        "        c_0 = Variable(torch.zeros(\r\n",
        "            self.num_layers, x.size(0), self.hidden_size))\r\n",
        "        \r\n",
        "        # Propagate input through LSTM\r\n",
        "        ula, (h_out, _) = self.lstm(x, (h_0, c_0))\r\n",
        "        \r\n",
        "        h_out = h_out.view(-1, self.hidden_size)\r\n",
        "        \r\n",
        "        out = self.fc(h_out)\r\n",
        "        \r\n",
        "        return out\r\n",
        "\r\n",
        "mymodel = GRU(num_classes, input_size, hidden_size, num_layers)\r\n",
        "print(mymodel)\r\n",
        "criterion = torch.nn.MSELoss()    # mean-squared error for regression\r\n",
        "optimizer = torch.optim.Adam(mymodel.parameters(), lr=learning_rate)"
      ],
      "execution_count": null,
      "outputs": [
        {
          "output_type": "stream",
          "text": [
            "GRU(\n",
            "  (gru): GRU(3, 6, batch_first=True)\n",
            "  (fc1): Linear(in_features=6, out_features=20, bias=True)\n",
            "  (fc2): Linear(in_features=20, out_features=1, bias=True)\n",
            "  (dropout): Dropout(p=0.2, inplace=False)\n",
            ")\n"
          ],
          "name": "stdout"
        }
      ]
    },
    {
      "cell_type": "markdown",
      "metadata": {
        "id": "ZVYwDFCNcjF_"
      },
      "source": [
        "#Train"
      ]
    },
    {
      "cell_type": "code",
      "metadata": {
        "colab": {
          "base_uri": "https://localhost:8080/"
        },
        "id": "gbLk_ibAqGcl",
        "outputId": "b183ca6e-7275-4a23-d9aa-7fa863316889"
      },
      "source": [
        "# Training \r\n",
        "iter=0 \r\n",
        "for epochs in range(num_epochs):\r\n",
        "  for i,(batch_x, batch_y) in enumerate (train_loader): \r\n",
        "    outputs = mymodel(batch_x)\r\n",
        "    # clear the gradients\r\n",
        "    optimizer.zero_grad()   \r\n",
        "    #loss \r\n",
        "    #print(outputs.shape, batch_y.shape)\r\n",
        "    loss = criterion(outputs,batch_y)\r\n",
        "    #backpropagation \r\n",
        "    loss.backward()\r\n",
        "    optimizer.step()\r\n",
        "    iter+=1\r\n",
        "    if iter % 100 == 0:\r\n",
        "      print(\"iter: %d, loss: %1.5f\" % (iter, loss.item()))\r\n"
      ],
      "execution_count": null,
      "outputs": [
        {
          "output_type": "stream",
          "text": [
            "/usr/local/lib/python3.6/dist-packages/torch/nn/modules/loss.py:446: UserWarning: Using a target size (torch.Size([64])) that is different to the input size (torch.Size([64, 1])). This will likely lead to incorrect results due to broadcasting. Please ensure they have the same size.\n",
            "  return F.mse_loss(input, target, reduction=self.reduction)\n",
            "/usr/local/lib/python3.6/dist-packages/torch/nn/modules/loss.py:446: UserWarning: Using a target size (torch.Size([31])) that is different to the input size (torch.Size([31, 1])). This will likely lead to incorrect results due to broadcasting. Please ensure they have the same size.\n",
            "  return F.mse_loss(input, target, reduction=self.reduction)\n"
          ],
          "name": "stderr"
        },
        {
          "output_type": "stream",
          "text": [
            "iter: 100, loss: 0.10608\n",
            "iter: 200, loss: 0.09284\n",
            "iter: 300, loss: 0.06052\n",
            "iter: 400, loss: 0.03423\n",
            "iter: 500, loss: 0.07159\n",
            "iter: 600, loss: 0.11240\n",
            "iter: 700, loss: 0.09758\n",
            "iter: 800, loss: 0.12785\n",
            "iter: 900, loss: 0.33978\n",
            "iter: 1000, loss: 0.02314\n",
            "iter: 1100, loss: 0.02443\n",
            "iter: 1200, loss: 0.03547\n",
            "iter: 1300, loss: 0.04117\n",
            "iter: 1400, loss: 0.00918\n",
            "iter: 1500, loss: 0.00558\n",
            "iter: 1600, loss: 0.01549\n",
            "iter: 1700, loss: 0.04192\n",
            "iter: 1800, loss: 0.18253\n",
            "iter: 1900, loss: 0.02118\n",
            "iter: 2000, loss: 0.01910\n",
            "iter: 2100, loss: 0.02834\n",
            "iter: 2200, loss: 0.03339\n",
            "iter: 2300, loss: 0.00790\n",
            "iter: 2400, loss: 0.00500\n",
            "iter: 2500, loss: 0.01217\n",
            "iter: 2600, loss: 0.01992\n",
            "iter: 2700, loss: 0.08916\n",
            "iter: 2800, loss: 0.01007\n",
            "iter: 2900, loss: 0.00780\n",
            "iter: 3000, loss: 0.01581\n",
            "iter: 3100, loss: 0.02103\n",
            "iter: 3200, loss: 0.00580\n",
            "iter: 3300, loss: 0.00492\n",
            "iter: 3400, loss: 0.00907\n",
            "iter: 3500, loss: 0.01127\n",
            "iter: 3600, loss: 0.03063\n",
            "iter: 3700, loss: 0.00367\n",
            "iter: 3800, loss: 0.00119\n",
            "iter: 3900, loss: 0.00652\n",
            "iter: 4000, loss: 0.01164\n",
            "iter: 4100, loss: 0.00473\n",
            "iter: 4200, loss: 0.00466\n",
            "iter: 4300, loss: 0.00642\n",
            "iter: 4400, loss: 0.01421\n",
            "iter: 4500, loss: 0.01654\n",
            "iter: 4600, loss: 0.00344\n",
            "iter: 4700, loss: 0.00036\n",
            "iter: 4800, loss: 0.00332\n",
            "iter: 4900, loss: 0.00815\n",
            "iter: 5000, loss: 0.00463\n",
            "iter: 5100, loss: 0.00410\n",
            "iter: 5200, loss: 0.00469\n",
            "iter: 5300, loss: 0.01509\n"
          ],
          "name": "stdout"
        }
      ]
    },
    {
      "cell_type": "code",
      "metadata": {
        "colab": {
          "base_uri": "https://localhost:8080/",
          "height": 614
        },
        "id": "EDe9H0DuwFQh",
        "outputId": "2ab10727-dba3-4ace-f0f1-b08cb3bda208"
      },
      "source": [
        "def result(x_data, y_data):\r\n",
        "  mymodel.eval()\r\n",
        "  train_predict = mymodel(x_data)\r\n",
        "\r\n",
        "  data_predict = train_predict.data.numpy()\r\n",
        "  y_data_plot = y_data.data.numpy()\r\n",
        "  y_data_plot = np.reshape(y_data_plot, (-1,1))  \r\n",
        "  data_predict = mm_y.inverse_transform(data_predict)\r\n",
        "  y_data_plot = mm_y.inverse_transform(y_data_plot)\r\n",
        "\r\n",
        "  plt.plot(y_data_plot)\r\n",
        "  plt.plot(data_predict)\r\n",
        "  plt.legend(('real', 'predict'),fontsize='15')\r\n",
        "  plt.show()\r\n",
        "\r\n",
        "  print('MAE/RMSE')\r\n",
        "  print(mean_absolute_error(y_data_plot, data_predict))\r\n",
        "  print(np.sqrt(mean_squared_error(y_data_plot, data_predict) ))\r\n",
        "\r\n",
        "result(x_data, y_data)\r\n",
        "result(x_test,y_test)"
      ],
      "execution_count": null,
      "outputs": [
        {
          "output_type": "display_data",
          "data": {
            "image/png": "[encoded data removed]",
            "text/plain": [
              "<Figure size 432x288 with 1 Axes>"
            ]
          },
          "metadata": {
            "tags": []
          }
        },
        {
          "output_type": "stream",
          "text": [
            "MAE/RMSE\n",
            "33.589046\n",
            "38.83998\n"
          ],
          "name": "stdout"
        },
        {
          "output_type": "display_data",
          "data": {
            "image/png": "[encoded data removed]",
            "text/plain": [
              "<Figure size 432x288 with 1 Axes>"
            ]
          },
          "metadata": {
            "tags": []
          }
        },
        {
          "output_type": "stream",
          "text": [
            "MAE/RMSE\n",
            "67.69218\n",
            "68.09824\n"
          ],
          "name": "stdout"
        }
      ]
    },
    {
      "cell_type": "code",
      "metadata": {
        "id": "uAJxtOzzxqLN"
      },
      "source": [
        ""
      ],
      "execution_count": null,
      "outputs": []
    }
  ]
}